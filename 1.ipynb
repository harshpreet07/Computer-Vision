{
 "cells": [
  {
   "cell_type": "code",
   "execution_count": null,
   "id": "589a06d3-09c8-4a51-a991-8aeda3aff8cf",
   "metadata": {},
   "outputs": [],
   "source": [
    "import cv2\n",
    "import numpy as np"
   ]
  },
  {
   "cell_type": "code",
   "execution_count": null,
   "id": "e202926a-59e0-485c-86dc-ba09a2c9beb9",
   "metadata": {},
   "outputs": [],
   "source": [
    "img = cv2.imread('pictures/test_image.jpg', cv2.IMREAD_GRAYSCALE) \n",
    "cv2.imshow('image', img) \n",
    "cv2.waitKey(0)\n",
    "cv2.destroyAllWindows()"
   ]
  },
  {
   "cell_type": "code",
   "execution_count": null,
   "id": "88c0ef3e-7fd5-4b43-8d71-d5c893fd4e0a",
   "metadata": {},
   "outputs": [],
   "source": [
    "img.shape"
   ]
  },
  {
   "cell_type": "code",
   "execution_count": null,
   "id": "d239a94a-1713-4f1c-a7c4-7bc25be08fd5",
   "metadata": {},
   "outputs": [],
   "source": [
    "half=cv2.resize(img,(0,0),fx=0.5,fy=0.5)\n",
    "cv2.imshow('1',half)\n",
    "cv2.waitKey(0)\n",
    "cv2.destroyAllWindows()"
   ]
  },
  {
   "cell_type": "code",
   "execution_count": null,
   "id": "d357c553-4a92-4fd1-8f54-cfb5d114e957",
   "metadata": {},
   "outputs": [],
   "source": [
    "input=\"pictures\"\n",
    "output=\"grayscale\"\n",
    "\n",
    "if not os.path.exists(output):\n",
    "    os.makedirs(output)\n",
    "\n",
    "for filename in os.listdir(input):\n",
    "     img = cv2.imread(os.path.join(input, filename))\n",
    "     gray_img = cv2.cvtColor(img, cv2.COLOR_BGR2GRAY)\n",
    "     cv2.imwrite(os.path.join(output, filename), gray_img)\n",
    "     print(f\"{filename} converted to grayscale.\")\n",
    "    "
   ]
  },
  {
   "cell_type": "code",
   "execution_count": null,
   "id": "7acc8e0e-e7f4-4cb7-8ddc-cac2978429d7",
   "metadata": {},
   "outputs": [],
   "source": [
    "vid=cv2.VideoCapture('video.mp4')\n",
    "success,image=vidcap.read()\n",
    "count=0\n",
    "while success:\n",
    "    cv2.imwrite(\"frame%d.jpg\" % count, image)\n",
    "    success,image=vidcap.read()\n",
    "    count=count+1"
   ]
  },
  {
   "cell_type": "code",
   "execution_count": null,
   "id": "50848914-1b4e-4224-b444-534b61d80653",
   "metadata": {},
   "outputs": [],
   "source": []
  }
 ],
 "metadata": {
  "kernelspec": {
   "display_name": "Python 3 (ipykernel)",
   "language": "python",
   "name": "python3"
  },
  "language_info": {
   "codemirror_mode": {
    "name": "ipython",
    "version": 3
   },
   "file_extension": ".py",
   "mimetype": "text/x-python",
   "name": "python",
   "nbconvert_exporter": "python",
   "pygments_lexer": "ipython3",
   "version": "3.11.7"
  }
 },
 "nbformat": 4,
 "nbformat_minor": 5
}
